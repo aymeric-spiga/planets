{
 "metadata": {
  "name": "",
  "signature": "sha256:dc494120763e69b76fb5d6dfdcaee621505f28b7768046e6b8646199fa41a576"
 },
 "nbformat": 3,
 "nbformat_minor": 0,
 "worksheets": [
  {
   "cells": [
    {
     "cell_type": "markdown",
     "metadata": {},
     "source": [
      "# PLANETS tutorial\n",
      "\n",
      "*Author: [Aymeric SPIGA](http://www.lmd.jussieu.fr/~aslmd)*\n",
      "\n",
      "This tutorial explains how to use the `planets` utilities written in `python`. This package would be useful to anyone interested in an easy way to get and manipulate planetary constants in `python` scripts and interactive use with `ipython`. Note that the `planets` package is inspired from one of the package in R. Pierrehumbert `python` suite in support of the book *Principles of Planetary Climates*."
     ]
    },
    {
     "cell_type": "markdown",
     "metadata": {},
     "source": [
      "<small>NB: If you have `ipython notebook` installed on your computer, download and use this tutorial interactively with the command `ipython notebook planetoplot_tutorial.ipynb`</small>"
     ]
    },
    {
     "cell_type": "markdown",
     "metadata": {},
     "source": [
      "First and foremost, import the `planets` package by the command"
     ]
    },
    {
     "cell_type": "code",
     "collapsed": false,
     "input": [
      "import planets"
     ],
     "language": "python",
     "metadata": {},
     "outputs": [],
     "prompt_number": 14
    },
    {
     "cell_type": "markdown",
     "metadata": {},
     "source": [
      "## Side use: physical constants"
     ]
    },
    {
     "cell_type": "markdown",
     "metadata": {},
     "source": [
      "It is always useful to have a handful of physical constants around: this is not the goal of `planets` - still you will appreciate this possibility in further calculations."
     ]
    },
    {
     "cell_type": "code",
     "collapsed": false,
     "input": [
      "print planets.h # Planck's constant\n",
      "print planets.c # Speed of light"
     ],
     "language": "python",
     "metadata": {},
     "outputs": [
      {
       "output_type": "stream",
       "stream": "stdout",
       "text": [
        "h= 6.62607554e-34\n",
        "c= 299792458.0\n"
       ]
      }
     ],
     "prompt_number": 22
    },
    {
     "cell_type": "code",
     "collapsed": false,
     "input": [
      "print planets.k # Boltzman thermodynamic constant\n",
      "print planets.sigma # Boltzman thermodynamic constant\n",
      "print planets.G # Gravitational constant\n",
      "print planets.N_avogadro # Avogadro's number\n",
      "print planets.Rstarkilo # Universal gas constant"
     ],
     "language": "python",
     "metadata": {},
     "outputs": [
      {
       "output_type": "stream",
       "stream": "stdout",
       "text": [
        "1.38065812e-23\n",
        "5.67051196e-08\n",
        "6.67428e-11\n",
        "6.022136736e+23\n",
        "8314.51198431\n"
       ]
      }
     ],
     "prompt_number": 25
    },
    {
     "cell_type": "markdown",
     "metadata": {},
     "source": [
      "## Main use: planetary constants and calculations "
     ]
    },
    {
     "cell_type": "markdown",
     "metadata": {},
     "source": [
      "It is pretty straightforward to import planetary constants for any planet. Let us choose Venus as an example."
     ]
    },
    {
     "cell_type": "code",
     "collapsed": false,
     "input": [
      "myplanet = planets.Venus"
     ],
     "language": "python",
     "metadata": {},
     "outputs": [],
     "prompt_number": 6
    },
    {
     "cell_type": "markdown",
     "metadata": {},
     "source": [
      "<small> Note that the command above + the `import` line can be equivalently obtained with the pretty intuitive alternative\n",
      "\n",
      "~~~python\n",
      "from planets import Venus as myplanet\n",
      "~~~\n",
      "\n",
      "Nevertheless this method is less flexible than the one indicated above, in which you have access to the whole `planets` variables and functions.</small>\n",
      "\n",
      "OK now you have loaded a `Planet` python object named `myplanet` and its attributes are set to the preset Venus values. The list of parameters in each `Planet` object can be obtained with the `show()` method."
     ]
    },
    {
     "cell_type": "code",
     "collapsed": false,
     "input": [
      "myplanet.show()"
     ],
     "language": "python",
     "metadata": {},
     "outputs": [
      {
       "output_type": "stream",
       "stream": "stdout",
       "text": [
        "a 6051800.0 Mean radius of planet (m)\n",
        "rsm 1.0821e+11 Semi-major axis of orbit about Sun (m)\n",
        "name Venus Name of the planet\n",
        "g 8.87 Surface gravitational acceleration (m/s**2)\n",
        "M 43.34 Molecular weight (g/mol)\n",
        "L 2613.9 Annual mean solar constant (current) (W/m**2)\n",
        "T0 300.0 Typical atmospheric temperature (K)\n",
        "day 10087200.0 Mean tropical length of day (s)\n",
        "Tsbar 737.0 Mean surface temperature (K)\n",
        "obliquity 177.36 Obliquity to orbit (degrees)\n",
        "year 19414166.4 Sidereal length of year (s)\n",
        "eccentricity 0.0067 Eccentricity (unitless)\n",
        "cp 900.0 Specific heat capacity (J kg-1 K-1)\n",
        "albedo 0.75 Bond albedo (fraction)\n",
        "Tsmax 737.0 Maximum surface temperature (K)\n",
        "Lequinox None Longitude of equinox (degrees)\n"
       ]
      }
     ],
     "prompt_number": 7
    },
    {
     "cell_type": "markdown",
     "metadata": {},
     "source": [
      "Now each of those parameter is easy to get from the attribute variable indicated in the left column. For instance, get the mean radius of the planet."
     ]
    },
    {
     "cell_type": "code",
     "collapsed": false,
     "input": [
      "print myplanet.a"
     ],
     "language": "python",
     "metadata": {},
     "outputs": [
      {
       "output_type": "stream",
       "stream": "stdout",
       "text": [
        "6051800.0\n"
       ]
      }
     ],
     "prompt_number": 8
    },
    {
     "cell_type": "markdown",
     "metadata": {},
     "source": [
      "If you are unsure about the units, you can still get the description by typing"
     ]
    },
    {
     "cell_type": "code",
     "collapsed": false,
     "input": [
      "print planets.desc[\"a\"]"
     ],
     "language": "python",
     "metadata": {},
     "outputs": [
      {
       "output_type": "stream",
       "stream": "stdout",
       "text": [
        "Mean radius of planet (m)\n"
       ]
      }
     ],
     "prompt_number": 13
    },
    {
     "cell_type": "markdown",
     "metadata": {},
     "source": [
      "So now it is fairly easy to work out a calculation ! One example. Compute the equivalent temperature\n",
      "$$T_{eq} = \\left( \\frac{(1-A)F}{4\\sigma} \\right)^{\\frac{1}{4}}$$"
     ]
    },
    {
     "cell_type": "code",
     "collapsed": false,
     "input": [
      "teq = ( ( (1-myplanet.albedo)*myplanet.L ) / (4*planets.sigma) )**0.25\n",
      "print teq"
     ],
     "language": "python",
     "metadata": {},
     "outputs": [
      {
       "output_type": "stream",
       "stream": "stdout",
       "text": [
        "231.679004728\n"
       ]
      }
     ],
     "prompt_number": 27
    },
    {
     "cell_type": "markdown",
     "metadata": {},
     "source": [
      "Actually this is already coded in `planets` because it is a quantity planetary scientists often use. Thus to compute equivalent temperature, you can simply use the method `eqtemp()`"
     ]
    },
    {
     "cell_type": "code",
     "collapsed": false,
     "input": [
      "teq = myplanet.eqtemp()\n",
      "print teq"
     ],
     "language": "python",
     "metadata": {},
     "outputs": [
      {
       "output_type": "stream",
       "stream": "stdout",
       "text": [
        "231.679004728\n"
       ]
      }
     ],
     "prompt_number": 28
    },
    {
     "cell_type": "markdown",
     "metadata": {},
     "source": [
      "The additional cool point of setting up a method is that it is easy to display values for a bunch of preset planets"
     ]
    },
    {
     "cell_type": "code",
     "collapsed": false,
     "input": [
      "print planets.Earth.eqtemp()\n",
      "print planets.Mars.eqtemp()\n",
      "print planets.Venus.eqtemp()\n",
      "print planets.Saturn.eqtemp()"
     ],
     "language": "python",
     "metadata": {},
     "outputs": [
      {
       "output_type": "stream",
       "stream": "stdout",
       "text": [
        "254.336725223\n",
        "210.092444789\n",
        "231.679004728\n",
        "81.0834977726\n"
       ]
      }
     ],
     "prompt_number": 29
    },
    {
     "cell_type": "markdown",
     "metadata": {},
     "source": [
      "New methods are often added to `planets`. Check for the source for this. Other examples of methods available at the time of writing"
     ]
    },
    {
     "cell_type": "code",
     "collapsed": false,
     "input": [
      "print myplanet.R() # planetary gas constant\n",
      "print myplanet.dryadiab() # adiabatic lapse rate\n",
      "print myplanet.omega() # planetary rotation rate\n",
      "print myplanet.H() # atmospheric scale height\n",
      "print myplanet.N2() # Brunt-V\u00e4is\u00e4l\u00e4 frequency"
     ],
     "language": "python",
     "metadata": {},
     "outputs": [
      {
       "output_type": "stream",
       "stream": "stdout",
       "text": [
        "191.843839047\n",
        "0.00985555555556\n",
        "6.22886956458e-07\n",
        "6488.51766789\n",
        "0.000291395925926\n"
       ]
      }
     ],
     "prompt_number": 35
    },
    {
     "cell_type": "markdown",
     "metadata": {},
     "source": [
      "The last two have additional arguments. For instance you can change the temperature (in Kelvin) for the atmospheric scale height"
     ]
    },
    {
     "cell_type": "code",
     "collapsed": false,
     "input": [
      "print myplanet.H(T0=273.)"
     ],
     "language": "python",
     "metadata": {},
     "outputs": [
      {
       "output_type": "stream",
       "stream": "stdout",
       "text": [
        "5904.55107778\n"
       ]
      }
     ],
     "prompt_number": 34
    },
    {
     "cell_type": "markdown",
     "metadata": {},
     "source": [
      "This works also with an array of temperature values `temp`. Hence `myplanet.H(T0=temp)` will be an array of scale height values with the same dimensions as `temp`."
     ]
    },
    {
     "cell_type": "markdown",
     "metadata": {},
     "source": [
      "## Customize planetary constants"
     ]
    },
    {
     "cell_type": "markdown",
     "metadata": {},
     "source": [
      "The values of preset planetary constants can be modified (because, well, those are constants to a certain point, or measured with a given accuracy, or suject to change with new missions) in the text files located in the `planet` folder.\n",
      "\n",
      "The use of text files to set planetary constants allows for a very flexible use. You might even set your own `Planet` object with your user-defined planetary constants, which a pretty useful feature in an universe in which we get to discover more and more exoplanets. Here is how to do that. Let us assume you want to create a set of planetary constant for HD189733b\n",
      "\n",
      "    1. Open a file HD189733b.txt\n",
      "    2. Fill it with constants (look the existing files in the planet folder for templates)\n",
      "    3. Put this file in the planet folder (or have it where you work out your computations)\n",
      "    \n",
      "The new planet is now available in `planets` ! Simply set a `Planet` object (name it the way you want) and load the values for the chosen planet with the `ini()` method. Then you can use all the available variables and methods associated to the object.\n",
      "\n",
      "~~~python\n",
      "a_hot_jupiter = Planet()\n",
      "a_hot_jupiter.ini(\"HD189733b\")\n",
      "print a_hot_jupiter.L\n",
      "print a_hot_jupiter.eqtemp()\n",
      "~~~\n",
      "\n",
      "Note that if one particular planetary constant is missing in the text file, it will be set to `None` by `planets`."
     ]
    },
    {
     "cell_type": "markdown",
     "metadata": {},
     "source": [
      "## Concluding remark"
     ]
    },
    {
     "cell_type": "markdown",
     "metadata": {},
     "source": [
      "`planets` is still a work in progress. Should you have bug fixes - or useful txt files for missing planetary environments, please feel free to drop me an email."
     ]
    },
    {
     "cell_type": "code",
     "collapsed": false,
     "input": [],
     "language": "python",
     "metadata": {},
     "outputs": []
    }
   ],
   "metadata": {}
  }
 ]
}