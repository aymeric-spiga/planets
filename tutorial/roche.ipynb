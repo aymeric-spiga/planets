{
 "cells": [
  {
   "cell_type": "code",
   "execution_count": 3,
   "metadata": {
    "collapsed": false
   },
   "outputs": [
    {
     "name": "stdout",
     "output_type": "stream",
     "text": [
      "Titan --> Roche=1.8 vs. Distance=21.0\n",
      "Enceladus --> Roche=1.9 vs. Distance=3.0\n",
      "Io --> Roche=1.8 vs. Distance=5.9\n",
      "Europa --> Roche=1.9 vs. Distance=9.4\n",
      "Ganymede --> Roche=2.2 vs. Distance=15.0\n",
      "Callisto --> Roche=2.2 vs. Distance=26.4\n"
     ]
    }
   ],
   "source": [
    "import planets\n",
    "import numpy as np\n",
    "\n",
    "### SATELLITES of GAS GIANTS\n",
    "io = {} ; europa = {} ; ganymede = {} ; callisto = {}\n",
    "titan = {} ; enceladus = {}\n",
    "# in m\n",
    "io[\"distance\"] = 5.9*planets.Jupiter.a\n",
    "europa[\"distance\"] = 9.4*planets.Jupiter.a\n",
    "ganymede[\"distance\"] = 15*planets.Jupiter.a\n",
    "callisto[\"distance\"] = 26.4*planets.Jupiter.a\n",
    "titan[\"distance\"] = 1.222e9\n",
    "enceladus[\"distance\"] = 3.*planets.Saturn.a\n",
    "# in kg / m3\n",
    "io[\"density\"] = 3530.\n",
    "europa[\"density\"] = 3020.\n",
    "ganymede[\"density\"] = 1940.\n",
    "callisto[\"density\"] = 1850.\n",
    "titan[\"density\"] = 1880.\n",
    "enceladus[\"density\"] = 1600.\n",
    "# in km\n",
    "io[\"radius\"] = 1e3*3642./2.\n",
    "europa[\"radius\"] = 1e3*3120./2.\n",
    "ganymede[\"radius\"] = 1e3*5268./2.\n",
    "callisto[\"radius\"] = 1e3*4800./2.\n",
    "titan[\"radius\"] = 1e3*2575.\n",
    "enceladus[\"radius\"] = 1e3*250.\n",
    "# planet\n",
    "io[\"planet\"] = \"Jupiter\"\n",
    "europa[\"planet\"] = \"Jupiter\"\n",
    "ganymede[\"planet\"] = \"Jupiter\"\n",
    "callisto[\"planet\"] = \"Jupiter\"\n",
    "titan[\"planet\"] = \"Saturn\"\n",
    "enceladus[\"planet\"] = \"Saturn\"\n",
    "# name\n",
    "io[\"name\"] = \"Io\"\n",
    "europa[\"name\"] = \"Europa\"\n",
    "ganymede[\"name\"] = \"Ganymede\"\n",
    "callisto[\"name\"] = \"Callisto\"\n",
    "titan[\"name\"] = \"Titan\"\n",
    "enceladus[\"name\"] = \"Enceladus\"\n",
    "\n",
    "planet = planets.Planet()\n",
    "for satellite in [titan,enceladus,io,europa,ganymede,callisto]:\n",
    "  planet.ini(satellite[\"planet\"])\n",
    "  roche = planet.roche(satellite[\"density\"],normalized=True)\n",
    "  print \"%s --> Roche=%.1f vs. Distance=%.1f\" % (satellite[\"name\"],roche,satellite[\"distance\"]/planet.a)\n"
   ]
  },
  {
   "cell_type": "code",
   "execution_count": 4,
   "metadata": {
    "collapsed": false
   },
   "outputs": [
    {
     "name": "stdout",
     "output_type": "stream",
     "text": [
      "Titan --> Hill=1.0 vs. Distance=21.0\n",
      "Enceladus --> Hill=1.1 vs. Distance=3.0\n",
      "Io --> Hill=1.0 vs. Distance=5.9\n",
      "Europa --> Hill=1.1 vs. Distance=9.4\n",
      "Ganymede --> Hill=1.3 vs. Distance=15.0\n",
      "Callisto --> Hill=1.3 vs. Distance=26.4\n"
     ]
    }
   ],
   "source": [
    "planet = planets.Planet()\n",
    "for satellite in [titan,enceladus,io,europa,ganymede,callisto]:\n",
    "  planet.ini(satellite[\"planet\"])\n",
    "  roche = planet.roche(satellite[\"density\"],normalized=True,cst=1.44)\n",
    "  print \"%s --> Hill=%.1f vs. Distance=%.1f\" % (satellite[\"name\"],roche,satellite[\"distance\"]/planet.a)\n"
   ]
  },
  {
   "cell_type": "markdown",
   "metadata": {},
   "source": [
    "(Les forces de marée peuvent le rapprocher vers la limite de Roche, puis le détruire)."
   ]
  },
  {
   "cell_type": "code",
   "execution_count": 20,
   "metadata": {
    "collapsed": false
   },
   "outputs": [
    {
     "name": "stdout",
     "output_type": "stream",
     "text": [
      "Titan --> -1.61e-04 m s-2 kg-1 --> 0.2 km\n",
      "Enceladus --> -5.34e-03 m s-2 kg-1 --> 6.0 km\n",
      "Io --> -9.86e-03 m s-2 kg-1 --> 5.0 km\n",
      "Europa --> -2.09e-03 m s-2 kg-1 --> 1.2 km\n",
      "Ganymede --> -8.68e-04 m s-2 kg-1 --> 0.8 km\n",
      "Callisto --> -1.45e-04 m s-2 kg-1 --> 0.1 km\n"
     ]
    }
   ],
   "source": [
    "def tidal_force(satellite): \n",
    "    planet = planets.Planet()\n",
    "    planet.ini(satellite[\"planet\"])\n",
    "    tf = - 3. * planets.G * planet.mass * satellite[\"radius\"] / (satellite[\"distance\"]**3)\n",
    "    return tf\n",
    "for satellite in [titan,enceladus,io,europa,ganymede,callisto]:\n",
    "  mass = (4./3.)*np.pi*(satellite[\"radius\"]**3)*satellite[\"density\"]\n",
    "  dR = -tidal_force(satellite)/(2.*planets.G*mass*(satellite[\"radius\"]**-3))\n",
    "  print \"%s --> %.2e m s-2 kg-1 --> %.1f km\" % (satellite[\"name\"],tidal_force(satellite),dR/1000.)  \n",
    "  \n",
    "# déplacement induit \n",
    "# fg(R)-fg(R+dR) = -dfgdR(R)dR\n",
    "# -GMR^-2 --> derive dfgdR(R)=2GMR^-3\n",
    "#dR = -tf/2GMR^3\n"
   ]
  },
  {
   "cell_type": "markdown",
   "metadata": {},
   "source": [
    "Faire le système Pluton-Charon ?"
   ]
  },
  {
   "cell_type": "code",
   "execution_count": null,
   "metadata": {
    "collapsed": false
   },
   "outputs": [],
   "source": []
  }
 ],
 "metadata": {
  "kernelspec": {
   "display_name": "Python 2",
   "language": "python",
   "name": "python2"
  },
  "language_info": {
   "codemirror_mode": {
    "name": "ipython",
    "version": 2
   },
   "file_extension": ".py",
   "mimetype": "text/x-python",
   "name": "python",
   "nbconvert_exporter": "python",
   "pygments_lexer": "ipython2",
   "version": "2.7.12"
  }
 },
 "nbformat": 4,
 "nbformat_minor": 0
}
